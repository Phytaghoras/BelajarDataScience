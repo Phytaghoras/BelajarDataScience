{
 "cells": [
  {
   "cell_type": "markdown",
   "id": "cb10600a",
   "metadata": {},
   "source": [
    "<h1> TEORI"
   ]
  },
  {
   "cell_type": "markdown",
   "id": "d05dc538",
   "metadata": {},
   "source": [
    "\n",
    "\n",
    "**Statistika Deskriptif dan Statistika Inferensial:**\n",
    "\n",
    "1. **Statistika Deskriptif**\n",
    "   - **Definisi:** \n",
    "     Statistika deskriptif adalah cabang statistika yang berfokus pada penggambaran dan ringkasan data. Tujuan utamanya adalah memberikan ikhtisar tentang karakteristik data yang dimiliki.\n",
    "   - **Teknik yang Digunakan:**\n",
    "     - Perhitungan ukuran tendensi sentral seperti mean (rata-rata), median, dan mode.\n",
    "     - Perhitungan ukuran penyebaran seperti varians dan standar deviasi.\n",
    "     - Visualisasi data menggunakan grafik seperti histogram, diagram batang, dan plot (scatter plot) untuk memahami distribusi dan hubungan antar variabel.\n",
    "   - **Tujuan:**\n",
    "     - Memberikan gambaran umum tentang data, seperti rata-rata, rentangan, dan pola yang muncul.\n",
    "     - Membantu dalam memahami sifat dasar dari dataset, termasuk distribusi data dan hubungan antar variabel.\n",
    "\n",
    "2. **Statistika Inferensial**\n",
    "   - **Definisi:**\n",
    "     Statistika inferensial adalah cabang statistika yang digunakan untuk membuat generalisasi atau kesimpulan tentang suatu populasi berdasarkan data sampel yang diambil dari populasi tersebut.\n",
    "   - **Teknik yang Digunakan:**\n",
    "     - Pengujian hipotesis (Hypothesis Testing) untuk memverifikasi teori atau klaim.\n",
    "     - Perhitungan interval kepercayaan (Confidence Interval) untuk memberikan rentang nilai yang mungkin mengandung parameter populasi.\n",
    "     - Analisis regresi untuk memodelkan hubungan antara variabel dependen dan independen.\n",
    "     - Analisis varian (ANOVA) untuk membandingkan rata-rata lebih dari dua kelompok.\n",
    "   - **Tujuan:**\n",
    "     - Membuat kesimpulan tentang populasi berdasarkan data sampel.\n",
    "     - Memprediksi tren atau pola yang mungkin berlaku dalam populasi yang lebih besar.\n",
    "     - Menjalankan analisis yang lebih kompleks untuk menjawab pertanyaan penelitian atau hipotesis.\n",
    "\n",
    "3. **Perbedaan Utama:**\n",
    "   - **Fokus:**\n",
    "     - Statistika Deskriptif: Fokus pada data yang ada, memberikan ringkasan dan visualisasi.\n",
    "     - Statistika Inferensial: Fokus pada membuat kesimpulan atau prediksi tentang populasi berdasarkan sampel.\n",
    "   - **Teknik:**\n",
    "     - Deskriptif: Mean, median, standar deviasi, grafik.\n",
    "     - Inferensial: Hipotesis testing, interval kepercayaan, regresi, ANOVA.\n",
    "   - **Tujuan:**\n",
    "     - Deskriptif: Menggambarkan data.\n",
    "     - Inferensial: Menganalisis data untuk membuat generalisasi atau prediksi.\n",
    "\n",
    "4. **Kesimpulan:**\n",
    "   - Statistika Deskriptif dan Inferensial merupakan dua alat penting dalam analisis data yang saling melengkapi.\n",
    "   - Deskriptif memberikan gambaran data, sementara Inferensial menggunakan data tersebut untuk membuat kesimpulan yang lebih luas.\n",
    "   - Keduanya diperlukan dalam penelitian untuk memahami data dan mengambil keputusan berdasarkan data tersebut."
   ]
  },
  {
   "cell_type": "markdown",
   "id": "c7c41639",
   "metadata": {},
   "source": [
    "\n",
    "\n",
    "Ada korelasi yang erat antara **statistika deskriptif**, **statistika inferensial**, dan materi sebelumnya tentang **data kualitatif** dan **data kuantitatif**. Berikut penjelasannya:\n",
    "\n",
    "---\n",
    "\n",
    "### 1. **Hubungan dengan Data Kualitatif dan Kuantitatif**\n",
    "   - **Data Kualitatif**:\n",
    "     - Dapat dianalisis menggunakan **statistika deskriptif** melalui teknik seperti frekuensi, persentase, atau visualisasi (misalnya diagram pie atau diagram batang) untuk menampilkan distribusi kategori.\n",
    "     - **Statistika inferensial** juga dapat digunakan untuk menganalisis data kualitatif, misalnya dengan menggunakan uji chi-square untuk menguji hubungan antar kategori.\n",
    "   - **Data Kuantitatif**:\n",
    "     - Dapat dianalisis menggunakan **statistika deskriptif** melalui ukuran tendensi sentral (mean, median, mode) dan ukuran penyebaran (standar deviasi, varians).\n",
    "     - **Statistika inferensial** digunakan untuk menganalisis data kuantitatif, misalnya dengan uji hipotesis (untuk membandingkan rata-rata) atau regresi (untuk memodelkan hubungan antar variabel).\n",
    "\n",
    "---\n",
    "\n",
    "### 2. **Korelasi antara Statistika Deskriptif dan Inferensial**\n",
    "   - **Statistika Deskriptif**:\n",
    "     - **Input:** Data kualitatif atau kuantitatif.\n",
    "     - **Tujuan:** Memberikan gambaran atau ringkasan data (misalnya rata-rata, median, standar deviasi, atau visualisasi data).\n",
    "     - **Output:** Digunakan sebagai dasar untuk melakukan analisis lebih lanjut dengan **statistika inferensial**.\n",
    "   - **Statistika Inferensial**:\n",
    "     - **Input:** Data kualitatif atau kuantitatif yang sudah dianalisis secara deskriptif.\n",
    "     - **Tujuan:** Membuat generalisasi atau kesimpulan tentang populasi berdasarkan sampel data.\n",
    "     - **Output:** Prediksi, kesimpulan, atau pengambilan keputusan berdasarkan data.\n",
    "\n",
    "---\n",
    "\n",
    "### 3. **Contoh Korelasi dalam Analisis Data**\n",
    "   - Misalnya, jika kita memiliki data tentang **gaji karyawan** (data kuantitatif):\n",
    "     1. **Statistika Deskriptif**: Menghitung rata-rata gaji, standar deviasi, atau membuat histogram untuk melihat distribusi gaji.\n",
    "     2. **Statistika Inferensial**: Menganalisis apakah ada perbedaan gaji antara departemen menggunakan uji hipotesis atau memprediksi gaji berdasarkan pengalaman kerja menggunakan regresi.\n",
    "   - Jika kita memiliki data tentang **golongan darah** (data kualitatif):\n",
    "     1. **Statistika Deskriptif**: Membuat diagram pie untuk menunjukkan persentase masing-masing golongan darah.\n",
    "     2. **Statistika Inferensial**: Menguji apakah ada hubungan antara golongan darah dan penyakit tertentu menggunakan uji chi-square.\n",
    "\n",
    "---\n",
    "\n"
   ]
  },
  {
   "cell_type": "markdown",
   "id": "3422340d",
   "metadata": {},
   "source": [
    "Dalam analisis data, memahami skala data sangat penting untuk memilih metode statistik yang tepat. Berikut adalah penjelasan tentang empat skala data utama:\n",
    "\n",
    "1. **Skala Nominal**\n",
    "   - **Definisi**: Skala dasar yang digunakan untuk mengategorikan data tanpa nilai kuantitatif atau urutan.\n",
    "   - **Contoh**: Warna favorit, gender, merek.\n",
    "   - **Karakteristik**: Tidak memiliki urutan atau nilai numerik.\n",
    "   - **Kegunaan**: Digunakan dalam survei untuk data kategori, seperti pertanyaan multiple-choice.\n",
    "\n",
    "2. **Skala Ordinal**\n",
    "   - **Definisi**: Menggabungkan kategorisasi dengan urutan yang jelas.\n",
    "   - **Contoh**: Tingkat pendidikan (SMA, S1, S2, S3), peringkat kepuasan (1-5).\n",
    "   - **Karakteristik**: Kategori yang berurutan, tetapi interval antar kategori tidak sama.\n",
    "   - **Kegunaan**: Berguna untuk data di mana urutan penting, tetapi perbedaan yang tepat tidak, seperti peringkat atau skala Likert.\n",
    "\n",
    "3. **Skala Interval**\n",
    "   - **Definisi**: Menyediakan data yang berurutan dengan interval yang sama antar kategori.\n",
    "   - **Contoh**: Suhu dalam Celsius atau Fahrenheit.\n",
    "   - **Karakteristik**: Memungkinkan penambahan dan pengurangan, tetapi tidak memiliki titik nol yang sebenarnya.\n",
    "   - **Kegunaan**: Cocok untuk mengukur suhu atau tanggal, di mana perbedaan dapat dibandingkan secara bermakna.\n",
    "\n",
    "4. **Skala Rasio**\n",
    "   - **Definisi**: Skala yang paling informatif, memiliki semua fitur skala interval ditambah titik nol yang sebenarnya.\n",
    "   - **Contoh**: Berat badan, tinggi badan, usia.\n",
    "   - **Karakteristik**: Memungkinkan semua operasi dasar, termasuk perkalian dan pembagian.\n",
    "   - **Kegunaan**: Ideal untuk pengukuran di mana nol yang sebenarnya bermakna, seperti berat atau waktu.\n",
    "\n",
    "**Penerapan dalam Skenario Nyata**\n",
    "\n",
    "- **Survei**: Tingkat kepuasan (1-5) biasanya dianggap sebagai data ordinal karena interval mungkin tidak dirasakan sama oleh semua responden.\n",
    "- **Dataset**: Dalam dataset karyawan, departemen adalah nominal, tingkat pekerjaan adalah ordinal, pengalaman kerja dapat dianggap interval, dan gaji adalah rasio.\n",
    "\n",
    "**Relasi dengan Jenis Data**\n",
    "\n",
    "- **Nominal dan Ordinal**: Biasanya terkait dengan data kualitatif karena fokus pada kategori dan urutan tanpa pengukuran yang akurat.\n",
    "- **Interval dan Rasio**: Merupakan data kuantitatif karena melibatkan nilai numerik dengan interval yang sama dan titik nol yang sebenarnya.\n",
    "\n"
   ]
  },
  {
   "cell_type": "markdown",
   "id": "595f0afc",
   "metadata": {},
   "source": [
    "<h1> TOOLS"
   ]
  },
  {
   "cell_type": "markdown",
   "id": "5c4c13c2-7629-44b8-9929-a7138cdb130c",
   "metadata": {},
   "source": [
    "<h3>cara mengimport pandas dan numpy"
   ]
  },
  {
   "cell_type": "code",
   "execution_count": 1,
   "id": "59518660-e689-4679-b2f8-b4649240147a",
   "metadata": {},
   "outputs": [],
   "source": [
    "# Mengimpor pustaka pandas untuk manipulasi dan analisis data.\n",
    "import pandas as pd\n",
    "\n",
    "# Mengimpor pustaka numpy untuk komputasi numerik.\n",
    "import numpy as np "
   ]
  },
  {
   "cell_type": "markdown",
   "id": "7cd86286",
   "metadata": {},
   "source": [
    "<h3> Membuat Dataframe dari scratch"
   ]
  },
  {
   "cell_type": "code",
   "execution_count": null,
   "id": "0a44642a",
   "metadata": {},
   "outputs": [],
   "source": [
    "# Menggunakan Dictionary untuk generate Dataframe\n",
    "Dataframe_Dictionary={'Nama':[\"Rama\",\"Octario\",\"Prawayan\"],\n",
    "                      'Kelas':[1,2,3]}\n",
    "\n",
    "# Menggunakan List di dalam Lists\n",
    "Dataframe_ListOfLists=[[\"Rama\",1],\n",
    "                       [\"Octario\",2],\n",
    "                       [\"Prawayan\",3]]\n",
    "Kolom_ListOfLists=['Nama','Kelas']\n",
    "\n",
    "\n",
    "\n",
    "Dataframe1=pd.DataFrame(Dataframe_Dictionary)\n",
    "Dataframe2=pd.DataFrame(Dataframe_ListOfLists,columns=Kolom_ListOfLists)\n",
    "\n"
   ]
  },
  {
   "cell_type": "markdown",
   "id": "8aeb1980",
   "metadata": {},
   "source": [
    "<h3> Memuat dataframe dari sumber data"
   ]
  },
  {
   "cell_type": "code",
   "execution_count": null,
   "id": "de3702f8-af40-42e3-b00a-4cb3863e5f7f",
   "metadata": {},
   "outputs": [
    {
     "name": "stdout",
     "output_type": "stream",
     "text": [
      "Index(['No', 'Nama', 'Merk', 'Tahun', 'Harga', 'Kilometer'], dtype='object')\n",
      "Nama         0\n",
      "Merk         0\n",
      "Tahun        0\n",
      "Harga        0\n",
      "Kilometer    0\n",
      "dtype: int64\n"
     ]
    }
   ],
   "source": [
    "# Membaca file CSV ke dalam DataFrame pandas\n",
    "file = pd.read_csv(\"/home/prawayan/Documents/Data Science/Eksperimen/data_mobil.csv\",sep=\",\")\n",
    "\n",
    "# Menampilkan kolom dari DataFrame\n",
    "print(file.columns)\n",
    "\n",
    "# Menghapus kolom 'No' dari DataFrame\n",
    "file=file.drop('No',axis=1) \n",
    "\n",
    "# Menampilkan beberapa baris pertama dari DataFrame\n",
    "file.head()\n",
    "\n",
    "\n",
    "# Menampilkan jumlah nilai NaN (missing values) untuk setiap kolom\n",
    "print(file.isna().sum())\n",
    "\n"
   ]
  },
  {
   "cell_type": "markdown",
   "id": "dbeb62d0",
   "metadata": {},
   "source": [
    "<h3>Mendeskripsikan Data Frame"
   ]
  },
  {
   "cell_type": "code",
   "execution_count": 15,
   "id": "a469a654",
   "metadata": {},
   "outputs": [
    {
     "name": "stdout",
     "output_type": "stream",
     "text": [
      "             Tahun         Harga     Kilometer\n",
      "count    50.000000  5.000000e+01     50.000000\n",
      "mean   2020.260000  3.835000e+08  19200.000000\n",
      "std       1.046081  1.902315e+08  13164.578324\n",
      "min    2018.000000  1.500000e+08   3000.000000\n",
      "25%    2020.000000  2.350000e+08  10000.000000\n",
      "50%    2020.000000  3.000000e+08  15000.000000\n",
      "75%    2021.000000  5.000000e+08  30000.000000\n",
      "max    2022.000000  9.000000e+08  50000.000000\n"
     ]
    },
    {
     "data": {
      "text/plain": [
       "np.int64(150000000)"
      ]
     },
     "execution_count": 15,
     "metadata": {},
     "output_type": "execute_result"
    }
   ],
   "source": [
    "print (file.describe())\n",
    "\n",
    "# Mencari nilai maksimum dari tiap kolom\n",
    "file.max()\n",
    " \n",
    "# Mencari nilai maksimum dari kolom 'Harga'\n",
    "file['Harga'].max()\n",
    " \n",
    "# Mencari nilai minimum dari kolom 'Harga'\n",
    "file['Harga'].min()"
   ]
  },
  {
   "cell_type": "markdown",
   "id": "b1209658",
   "metadata": {},
   "source": [
    "<h3>Menjumlahkan Tiap kolom Dataframe"
   ]
  },
  {
   "cell_type": "code",
   "execution_count": null,
   "id": "bf90a244",
   "metadata": {},
   "outputs": [
    {
     "data": {
      "text/plain": [
       "Tahun             101013\n",
       "Harga        19175000000\n",
       "Kilometer         960000\n",
       "dtype: int64"
      ]
     },
     "execution_count": 45,
     "metadata": {},
     "output_type": "execute_result"
    }
   ],
   "source": [
    "file[['Harga']].sum() # Menghitung total harga dari kolom 'Harga' dalam DataFrame 'file'.\n",
    "\n",
    "file.sum(numeric_only=True) # Menghitung jumlah semua kolom numerik dalam DataFrame 'file'.\n"
   ]
  },
  {
   "cell_type": "markdown",
   "id": "6ba9cfb3",
   "metadata": {},
   "source": [
    "<h3> Metode Loc"
   ]
  },
  {
   "cell_type": "code",
   "execution_count": 18,
   "id": "edb45581",
   "metadata": {},
   "outputs": [
    {
     "name": "stdout",
     "output_type": "stream",
     "text": [
      "           Nama        Merk  Tahun      Harga  Kilometer\n",
      "0         Civic       Honda   2020  350000000      12000\n",
      "1       Corolla      Toyota   2021  400000000       8000\n",
      "2       Alphard      Toyota   2019  900000000      50000\n",
      "3     Outlander  Mitsubishi   2020  450000000      30000\n",
      "4          CR-V       Honda   2021  500000000      10000\n",
      "5      Fortuner      Toyota   2022  550000000       5000\n",
      "6  Pajero Sport  Mitsubishi   2021  600000000       7000\n",
      "7          Jazz       Honda   2018  250000000      40000\n",
      "8         Yaris      Toyota   2019  300000000      35000\n",
      "9       Xpander  Mitsubishi   2020  275000000      20000\n",
      "        Nama        Merk  Tahun      Harga  Kilometer\n",
      "3  Outlander  Mitsubishi   2020  450000000      30000\n",
      "4       CR-V       Honda   2021  500000000      10000\n",
      "         Nama        Merk  Tahun      Harga  Kilometer\n",
      "1     Corolla      Toyota   2021  400000000       8000\n",
      "3   Outlander  Mitsubishi   2020  450000000      30000\n",
      "10     Avanza      Toyota   2021  200000000      15000\n",
      "       Harga  Tahun\n",
      "1  400000000   2021\n",
      "2  900000000   2019\n",
      "3  450000000   2020\n",
      "4  500000000   2021\n",
      "5  550000000   2022\n",
      "6  600000000   2021\n",
      "7  250000000   2018\n",
      "8  300000000   2019\n",
      "9  275000000   2020\n",
      "        Harga  Tahun\n",
      "1   400000000   2021\n",
      "10  200000000   2021\n",
      "15  260000000   2021\n"
     ]
    }
   ],
   "source": [
    "print(file[:10])\n",
    " \n",
    "# Mengambil data dari baris ke-4 (indeks 3) hingga baris ke-5 (indeks 4)\n",
    "print(file[3:5])\n",
    " \n",
    "# Mengambil data dari baris ke-2 (indeks 1), baris ke-4 (indeks 3), dan baris ke-11 (indeks 10)\n",
    "print(file.loc[[1,3,10]])\n",
    "\n",
    "# Mengambil kolom 'Jenis Kelamin' dan 'Pendapatan' dari baris ke-2 (indeks 1) hingga baris ke-10 (indeks 9)\n",
    "print(file[['Harga', 'Tahun']][1:10])\n",
    " \n",
    "# Mengambil kolom 'Harga' dan 'Tingkat Kepuasan' dari baris ke-2 (indeks 1), baris ke-11 (indeks 10), dan baris ke-16 (indeks 15)\n",
    "print(file[['Harga', 'Tahun']].loc[[1,10,15]])"
   ]
  }
 ],
 "metadata": {
  "kernelspec": {
   "display_name": "GlobalJupyter",
   "language": "python",
   "name": "python3"
  },
  "language_info": {
   "codemirror_mode": {
    "name": "ipython",
    "version": 3
   },
   "file_extension": ".py",
   "mimetype": "text/x-python",
   "name": "python",
   "nbconvert_exporter": "python",
   "pygments_lexer": "ipython3",
   "version": "3.12.3"
  }
 },
 "nbformat": 4,
 "nbformat_minor": 5
}
