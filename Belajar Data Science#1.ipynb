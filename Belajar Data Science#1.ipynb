{
 "cells": [
  {
   "cell_type": "markdown",
   "id": "cb10600a",
   "metadata": {},
   "source": [
    "<h1> TEORI"
   ]
  },
  {
   "cell_type": "markdown",
   "id": "d05dc538",
   "metadata": {},
   "source": [
    "\n",
    "\n",
    "**Statistika Deskriptif dan Statistika Inferensial:**\n",
    "\n",
    "1. **Statistika Deskriptif**\n",
    "   - **Definisi:** \n",
    "     Statistika deskriptif adalah cabang statistika yang berfokus pada penggambaran dan ringkasan data. Tujuan utamanya adalah memberikan ikhtisar tentang karakteristik data yang dimiliki.\n",
    "   - **Teknik yang Digunakan:**\n",
    "     - Perhitungan ukuran tendensi sentral seperti mean (rata-rata), median, dan mode.\n",
    "     - Perhitungan ukuran penyebaran seperti varians dan standar deviasi.\n",
    "     - Visualisasi data menggunakan grafik seperti histogram, diagram batang, dan plot (scatter plot) untuk memahami distribusi dan hubungan antar variabel.\n",
    "   - **Tujuan:**\n",
    "     - Memberikan gambaran umum tentang data, seperti rata-rata, rentangan, dan pola yang muncul.\n",
    "     - Membantu dalam memahami sifat dasar dari dataset, termasuk distribusi data dan hubungan antar variabel.\n",
    "\n",
    "2. **Statistika Inferensial**\n",
    "   - **Definisi:**\n",
    "     Statistika inferensial adalah cabang statistika yang digunakan untuk membuat generalisasi atau kesimpulan tentang suatu populasi berdasarkan data sampel yang diambil dari populasi tersebut.\n",
    "   - **Teknik yang Digunakan:**\n",
    "     - Pengujian hipotesis (Hypothesis Testing) untuk memverifikasi teori atau klaim.\n",
    "     - Perhitungan interval kepercayaan (Confidence Interval) untuk memberikan rentang nilai yang mungkin mengandung parameter populasi.\n",
    "     - Analisis regresi untuk memodelkan hubungan antara variabel dependen dan independen.\n",
    "     - Analisis varian (ANOVA) untuk membandingkan rata-rata lebih dari dua kelompok.\n",
    "   - **Tujuan:**\n",
    "     - Membuat kesimpulan tentang populasi berdasarkan data sampel.\n",
    "     - Memprediksi tren atau pola yang mungkin berlaku dalam populasi yang lebih besar.\n",
    "     - Menjalankan analisis yang lebih kompleks untuk menjawab pertanyaan penelitian atau hipotesis.\n",
    "\n",
    "3. **Perbedaan Utama:**\n",
    "   - **Fokus:**\n",
    "     - Statistika Deskriptif: Fokus pada data yang ada, memberikan ringkasan dan visualisasi.\n",
    "     - Statistika Inferensial: Fokus pada membuat kesimpulan atau prediksi tentang populasi berdasarkan sampel.\n",
    "   - **Teknik:**\n",
    "     - Deskriptif: Mean, median, standar deviasi, grafik.\n",
    "     - Inferensial: Hipotesis testing, interval kepercayaan, regresi, ANOVA.\n",
    "   - **Tujuan:**\n",
    "     - Deskriptif: Menggambarkan data.\n",
    "     - Inferensial: Menganalisis data untuk membuat generalisasi atau prediksi.\n",
    "\n",
    "4. **Kesimpulan:**\n",
    "   - Statistika Deskriptif dan Inferensial merupakan dua alat penting dalam analisis data yang saling melengkapi.\n",
    "   - Deskriptif memberikan gambaran data, sementara Inferensial menggunakan data tersebut untuk membuat kesimpulan yang lebih luas.\n",
    "   - Keduanya diperlukan dalam penelitian untuk memahami data dan mengambil keputusan berdasarkan data tersebut."
   ]
  },
  {
   "cell_type": "markdown",
   "id": "c7c41639",
   "metadata": {},
   "source": [
    "\n",
    "\n",
    "Ada korelasi yang erat antara **statistika deskriptif**, **statistika inferensial**, dan materi sebelumnya tentang **data kualitatif** dan **data kuantitatif**. Berikut penjelasannya:\n",
    "\n",
    "---\n",
    "\n",
    "### 1. **Hubungan dengan Data Kualitatif dan Kuantitatif**\n",
    "   - **Data Kualitatif**:\n",
    "     - Dapat dianalisis menggunakan **statistika deskriptif** melalui teknik seperti frekuensi, persentase, atau visualisasi (misalnya diagram pie atau diagram batang) untuk menampilkan distribusi kategori.\n",
    "     - **Statistika inferensial** juga dapat digunakan untuk menganalisis data kualitatif, misalnya dengan menggunakan uji chi-square untuk menguji hubungan antar kategori.\n",
    "   - **Data Kuantitatif**:\n",
    "     - Dapat dianalisis menggunakan **statistika deskriptif** melalui ukuran tendensi sentral (mean, median, mode) dan ukuran penyebaran (standar deviasi, varians).\n",
    "     - **Statistika inferensial** digunakan untuk menganalisis data kuantitatif, misalnya dengan uji hipotesis (untuk membandingkan rata-rata) atau regresi (untuk memodelkan hubungan antar variabel).\n",
    "\n",
    "---\n",
    "\n",
    "### 2. **Korelasi antara Statistika Deskriptif dan Inferensial**\n",
    "   - **Statistika Deskriptif**:\n",
    "     - **Input:** Data kualitatif atau kuantitatif.\n",
    "     - **Tujuan:** Memberikan gambaran atau ringkasan data (misalnya rata-rata, median, standar deviasi, atau visualisasi data).\n",
    "     - **Output:** Digunakan sebagai dasar untuk melakukan analisis lebih lanjut dengan **statistika inferensial**.\n",
    "   - **Statistika Inferensial**:\n",
    "     - **Input:** Data kualitatif atau kuantitatif yang sudah dianalisis secara deskriptif.\n",
    "     - **Tujuan:** Membuat generalisasi atau kesimpulan tentang populasi berdasarkan sampel data.\n",
    "     - **Output:** Prediksi, kesimpulan, atau pengambilan keputusan berdasarkan data.\n",
    "\n",
    "---\n",
    "\n",
    "### 3. **Contoh Korelasi dalam Analisis Data**\n",
    "   - Misalnya, jika kita memiliki data tentang **gaji karyawan** (data kuantitatif):\n",
    "     1. **Statistika Deskriptif**: Menghitung rata-rata gaji, standar deviasi, atau membuat histogram untuk melihat distribusi gaji.\n",
    "     2. **Statistika Inferensial**: Menganalisis apakah ada perbedaan gaji antara departemen menggunakan uji hipotesis atau memprediksi gaji berdasarkan pengalaman kerja menggunakan regresi.\n",
    "   - Jika kita memiliki data tentang **golongan darah** (data kualitatif):\n",
    "     1. **Statistika Deskriptif**: Membuat diagram pie untuk menunjukkan persentase masing-masing golongan darah.\n",
    "     2. **Statistika Inferensial**: Menguji apakah ada hubungan antara golongan darah dan penyakit tertentu menggunakan uji chi-square.\n",
    "\n",
    "---\n",
    "\n"
   ]
  },
  {
   "cell_type": "markdown",
   "id": "3422340d",
   "metadata": {},
   "source": [
    "Dalam analisis data, memahami skala data sangat penting untuk memilih metode statistik yang tepat. Berikut adalah penjelasan tentang empat skala data utama:\n",
    "\n",
    "1. **Skala Nominal**\n",
    "   - **Definisi**: Skala dasar yang digunakan untuk mengategorikan data tanpa nilai kuantitatif atau urutan.\n",
    "   - **Contoh**: Warna favorit, gender, merek.\n",
    "   - **Karakteristik**: Tidak memiliki urutan atau nilai numerik.\n",
    "   - **Kegunaan**: Digunakan dalam survei untuk data kategori, seperti pertanyaan multiple-choice.\n",
    "\n",
    "2. **Skala Ordinal**\n",
    "   - **Definisi**: Menggabungkan kategorisasi dengan urutan yang jelas.\n",
    "   - **Contoh**: Tingkat pendidikan (SMA, S1, S2, S3), peringkat kepuasan (1-5).\n",
    "   - **Karakteristik**: Kategori yang berurutan, tetapi interval antar kategori tidak sama.\n",
    "   - **Kegunaan**: Berguna untuk data di mana urutan penting, tetapi perbedaan yang tepat tidak, seperti peringkat atau skala Likert.\n",
    "\n",
    "3. **Skala Interval**\n",
    "   - **Definisi**: Menyediakan data yang berurutan dengan interval yang sama antar kategori.\n",
    "   - **Contoh**: Suhu dalam Celsius atau Fahrenheit.\n",
    "   - **Karakteristik**: Memungkinkan penambahan dan pengurangan, tetapi tidak memiliki titik nol yang sebenarnya.\n",
    "   - **Kegunaan**: Cocok untuk mengukur suhu atau tanggal, di mana perbedaan dapat dibandingkan secara bermakna.\n",
    "\n",
    "4. **Skala Rasio**\n",
    "   - **Definisi**: Skala yang paling informatif, memiliki semua fitur skala interval ditambah titik nol yang sebenarnya.\n",
    "   - **Contoh**: Berat badan, tinggi badan, usia.\n",
    "   - **Karakteristik**: Memungkinkan semua operasi dasar, termasuk perkalian dan pembagian.\n",
    "   - **Kegunaan**: Ideal untuk pengukuran di mana nol yang sebenarnya bermakna, seperti berat atau waktu.\n",
    "\n",
    "**Penerapan dalam Skenario Nyata**\n",
    "\n",
    "- **Survei**: Tingkat kepuasan (1-5) biasanya dianggap sebagai data ordinal karena interval mungkin tidak dirasakan sama oleh semua responden.\n",
    "- **Dataset**: Dalam dataset karyawan, departemen adalah nominal, tingkat pekerjaan adalah ordinal, pengalaman kerja dapat dianggap interval, dan gaji adalah rasio.\n",
    "\n",
    "**Relasi dengan Jenis Data**\n",
    "\n",
    "- **Nominal dan Ordinal**: Biasanya terkait dengan data kualitatif karena fokus pada kategori dan urutan tanpa pengukuran yang akurat.\n",
    "- **Interval dan Rasio**: Merupakan data kuantitatif karena melibatkan nilai numerik dengan interval yang sama dan titik nol yang sebenarnya.\n"
   ]
  },
  {
   "cell_type": "markdown",
   "id": "783a65ed",
   "metadata": {},
   "source": [
    "### Ukuran Pusat (Measures of Central Tendency)\n",
    "\n",
    "Ukuran pusat adalah konsep dalam statistika deskriptif yang digunakan untuk menentukan nilai yang mewakili atau menjadi pusat dari sekumpulan data. Ukuran pusat membantu mengidentifikasi nilai tipikal dalam suatu sampel atau populasi.\n",
    "\n",
    "Beberapa jenis ukuran pusat yang umum digunakan:\n",
    "\n",
    "1. **Mean (Rata-rata)**\n",
    "   - **Definisi**: Jumlah seluruh nilai data dibagi dengan banyaknya data.\n",
    "   - **Kelebihan**: Menggunakan seluruh data sehingga sensitif terhadap perubahan data.\n",
    "   - **Kekurangan**: Sangat dipengaruhi oleh nilai ekstrem (outlier).\n",
    "   - **Contoh**: Rata-rata nilai ujian kelas.\n",
    "\n",
    "2. **Median**\n",
    "   - **Definisi**: Nilai tengah dari data yang telah diurutkan.\n",
    "   - **Kelebihan**: Tidak terpengaruh oleh nilai ekstrem.\n",
    "   - **Kekurangan**: Tidak memanfaatkan seluruh data, hanya posisi tengah.\n",
    "   - **Contoh**: Pendapatan tengah dari sekumpulan data gaji.\n",
    "\n",
    "3. **Modus**\n",
    "   - **Definisi**: Nilai yang paling sering muncul dalam data.\n",
    "   - **Kelebihan**: Cocok untuk data kategori (nominal).\n",
    "   - **Kekurangan**: Bisa tidak ada atau lebih dari satu modus dalam satu data.\n",
    "   - **Contoh**: Warna favorit yang paling banyak dipilih responden.\n",
    "\n",
    "Ukuran pusat ini sangat penting dalam analisis data karena memberikan gambaran umum tentang kecenderungan data dan membantu dalam pengambilan keputusan berbasis data."
   ]
  },
  {
   "cell_type": "markdown",
   "id": "595f0afc",
   "metadata": {},
   "source": [
    "<h1> TOOLS"
   ]
  },
  {
   "cell_type": "markdown",
   "id": "5c4c13c2-7629-44b8-9929-a7138cdb130c",
   "metadata": {},
   "source": [
    "<h3>cara mengimport pandas dan numpy"
   ]
  },
  {
   "cell_type": "code",
   "execution_count": 2,
   "id": "59518660-e689-4679-b2f8-b4649240147a",
   "metadata": {},
   "outputs": [],
   "source": [
    "# Mengimpor pustaka pandas untuk manipulasi dan analisis data.\n",
    "import pandas as pd\n",
    "\n",
    "# Mengimpor pustaka numpy untuk komputasi numerik.\n",
    "import numpy as np "
   ]
  },
  {
   "cell_type": "markdown",
   "id": "7cd86286",
   "metadata": {},
   "source": [
    "<h3> Membuat Dataframe dari scratch"
   ]
  },
  {
   "cell_type": "code",
   "execution_count": 9,
   "id": "0a44642a",
   "metadata": {},
   "outputs": [],
   "source": [
    "# Menggunakan Dictionary untuk generate Dataframe\n",
    "Dataframe_Dictionary={'Nama':[\"Rama\",\"Octario\",\"Prawayan\"],\n",
    "                      'Kelas':[1,2,3]}\n",
    "\n",
    "# Menggunakan List di dalam Lists\n",
    "Dataframe_ListOfLists=[[\"Rama\",1],\n",
    "                       [\"Octario\",2],\n",
    "                       [\"Prawayan\",3]]\n",
    "Kolom_ListOfLists=['Nama','Kelas']\n",
    "\n",
    "\n",
    "\n",
    "Dataframe1=pd.DataFrame(Dataframe_Dictionary)\n",
    "Dataframe2=pd.DataFrame(Dataframe_ListOfLists,columns=Kolom_ListOfLists)\n",
    "\n"
   ]
  },
  {
   "cell_type": "markdown",
   "id": "8aeb1980",
   "metadata": {},
   "source": [
    "<h3> Memuat dataframe dari sumber data"
   ]
  },
  {
   "cell_type": "code",
   "execution_count": 7,
   "id": "de3702f8-af40-42e3-b00a-4cb3863e5f7f",
   "metadata": {},
   "outputs": [
    {
     "name": "stdout",
     "output_type": "stream",
     "text": [
      "Index(['No', 'Nama', 'Merk', 'Tahun', 'Harga', 'Kilometer'], dtype='object')\n",
      "Nama         0\n",
      "Merk         0\n",
      "Tahun        0\n",
      "Harga        0\n",
      "Kilometer    0\n",
      "dtype: int64\n"
     ]
    }
   ],
   "source": [
    "# Membaca file CSV ke dalam DataFrame pandas\n",
    "file = pd.read_csv(\"/home/prawayan/Documents/Data Science/Eksperimen/data_mobil.csv\",sep=\",\")\n",
    "\n",
    "# Menampilkan kolom dari DataFrame\n",
    "print(file.columns)\n",
    "\n",
    "# Menghapus kolom 'No' dari DataFrame\n",
    "file=file.drop('No',axis=1) \n",
    "\n",
    "# Menampilkan beberapa baris pertama dari DataFrame\n",
    "file.head()\n",
    "\n",
    "\n",
    "# Menampilkan jumlah nilai NaN (missing values) untuk setiap kolom\n",
    "print(file.isna().sum())\n",
    "\n"
   ]
  },
  {
   "cell_type": "markdown",
   "id": "dbeb62d0",
   "metadata": {},
   "source": [
    "<h3>Mendeskripsikan Data Frame"
   ]
  },
  {
   "cell_type": "code",
   "execution_count": null,
   "id": "a469a654",
   "metadata": {},
   "outputs": [],
   "source": [
    "print (file.describe())\n",
    "\n",
    "# Mencari nilai maksimum dari tiap kolom\n",
    "file.max()\n",
    " \n",
    "# Mencari nilai maksimum dari kolom 'Harga'\n",
    "file['Harga'].max()\n",
    " \n",
    "# Mencari nilai minimum dari kolom 'Harga'\n",
    "file['Harga'].min()"
   ]
  },
  {
   "cell_type": "markdown",
   "id": "b1209658",
   "metadata": {},
   "source": [
    "<h3>Menjumlahkan Tiap kolom Dataframe"
   ]
  },
  {
   "cell_type": "code",
   "execution_count": null,
   "id": "bf90a244",
   "metadata": {},
   "outputs": [],
   "source": [
    "file[['Harga']].sum() # Menghitung total harga dari kolom 'Harga' dalam DataFrame 'file'.\n",
    "\n",
    "file.sum(numeric_only=True) # Menghitung jumlah semua kolom numerik dalam DataFrame 'file'.\n"
   ]
  },
  {
   "cell_type": "markdown",
   "id": "6ba9cfb3",
   "metadata": {},
   "source": [
    "<h3> Metode Loc"
   ]
  },
  {
   "cell_type": "code",
   "execution_count": null,
   "id": "edb45581",
   "metadata": {},
   "outputs": [],
   "source": [
    "print(file[:10])\n",
    " \n",
    "# Mengambil data dari baris ke-4 (indeks 3) hingga baris ke-5 (indeks 4)\n",
    "print(file[3:5])\n",
    " \n",
    "# Mengambil data dari baris ke-2 (indeks 1), baris ke-4 (indeks 3), dan baris ke-11 (indeks 10)\n",
    "print(file.loc[[1,3,10]])\n",
    "\n",
    "# Mengambil kolom 'Jenis Kelamin' dan 'Pendapatan' dari baris ke-2 (indeks 1) hingga baris ke-10 (indeks 9)\n",
    "print(file[['Harga', 'Tahun']][1:10])\n",
    " \n",
    "# Mengambil kolom 'Harga' dan 'Tingkat Kepuasan' dari baris ke-2 (indeks 1), baris ke-11 (indeks 10), dan baris ke-16 (indeks 15)\n",
    "print(file[['Harga', 'Tahun']].loc[[1,10,15]])"
   ]
  },
  {
   "cell_type": "markdown",
   "id": "14ef728a",
   "metadata": {},
   "source": []
  }
 ],
 "metadata": {
  "kernelspec": {
   "display_name": "GlobalJupyter",
   "language": "python",
   "name": "python3"
  },
  "language_info": {
   "codemirror_mode": {
    "name": "ipython",
    "version": 3
   },
   "file_extension": ".py",
   "mimetype": "text/x-python",
   "name": "python",
   "nbconvert_exporter": "python",
   "pygments_lexer": "ipython3",
   "version": "3.12.3"
  }
 },
 "nbformat": 4,
 "nbformat_minor": 5
}
